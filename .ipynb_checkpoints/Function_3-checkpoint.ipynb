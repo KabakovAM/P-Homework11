{
 "cells": [
  {
   "cell_type": "code",
   "execution_count": 1,
   "id": "139e8b5a",
   "metadata": {},
   "outputs": [],
   "source": [
    "from sympy import *\n",
    "from sympy.plotting import plot\n",
    "x = Symbol('x', real=True)"
   ]
  },
  {
   "cell_type": "code",
   "execution_count": 2,
   "id": "9b66c768",
   "metadata": {},
   "outputs": [],
   "source": [
    "# Функция:\n",
    "f = (x ** 2 + 3) / (3 * (x + 1))"
   ]
  },
  {
   "cell_type": "code",
   "execution_count": 3,
   "id": "a0532fce",
   "metadata": {},
   "outputs": [
    {
     "data": {
      "text/plain": [
       "[]"
      ]
     },
     "execution_count": 3,
     "metadata": {},
     "output_type": "execute_result"
    }
   ],
   "source": [
    "# 1) Определить корни:\n",
    "solve(f, x, domain=S.Reals)"
   ]
  },
  {
   "cell_type": "code",
   "execution_count": 4,
   "id": "bd1ec2af",
   "metadata": {},
   "outputs": [
    {
     "name": "stdout",
     "output_type": "stream",
     "text": [
      "Функция возрастает в промежутке от -oo до -3.0 и от 1.0 до oo.\n",
      "Функция убывает в промежутке от -3.0 до 1.0.\n"
     ]
    }
   ],
   "source": [
    "# 2) Найти интервалы, на которых функция возрастает:\n",
    "# 3) Найти интервалы, на которых функция убывает:\n",
    "f_area=[-oo,oo]\n",
    "f_area[1:1]=solveset(diff(f), x, domain=S.Reals).evalf(2)\n",
    "f_increase = []\n",
    "f_decrease = []\n",
    "for i in range(1, len(f_area)):\n",
    "    if is_increasing(f,Interval.open(f_area[i-1], f_area[i])):\n",
    "        f_increase.append(f'от {f_area[i-1]} до {f_area[i]}')\n",
    "    else:\n",
    "        f_decrease.append(f'от {f_area[i-1]} до {f_area[i]}')\n",
    "print(f'Функция возрастает в промежутке {f_increase[0]} и {f_increase[1]}.')\n",
    "print(f'Функция убывает в промежутке {f_decrease[0]}.')"
   ]
  },
  {
   "cell_type": "code",
   "execution_count": 5,
   "id": "515c25b5",
   "metadata": {},
   "outputs": [
    {
     "data": {
      "image/png": "[encoded data removed]",
      "text/plain": [
       "<Figure size 640x480 with 1 Axes>"
      ]
     },
     "metadata": {},
     "output_type": "display_data"
    },
    {
     "data": {
      "text/plain": [
       "<sympy.plotting.plot.Plot at 0x24b7a8c7130>"
      ]
     },
     "execution_count": 5,
     "metadata": {},
     "output_type": "execute_result"
    }
   ],
   "source": [
    "# 4) Построить график:\n",
    "plot(f, (x,-4, 2), ylim=(-20, 20))"
   ]
  },
  {
   "cell_type": "code",
   "execution_count": 6,
   "id": "d02dbb93",
   "metadata": {},
   "outputs": [
    {
     "name": "stdout",
     "output_type": "stream",
     "text": [
      "Координаты вершины графика (-3.0, -2.0) и (1.0, 0.67).\n"
     ]
    }
   ],
   "source": [
    "# 5) Вычислить вершину:\n",
    "f_area=solveset(diff(f), x)\n",
    "f_vertex = []\n",
    "for i in f_area:\n",
    "    f_check = f.subs(x,i)\n",
    "    if f_check <0:\n",
    "        f_vertex.append(f'({i.evalf(2)}, {f_check.evalf(2)})')\n",
    "    elif f_check>0:\n",
    "        f_vertex.append(f'({i.evalf(2)}, {f_check.evalf(2)})')\n",
    "    else:\n",
    "        f_vertex.append(f'({i.evalf(2)}, {f_check.evalf(2)})')\n",
    "print(f'Координаты вершины графика {f_vertex[0]} и {f_vertex[1]}.')"
   ]
  },
  {
   "cell_type": "code",
   "execution_count": 7,
   "id": "6686c9a2",
   "metadata": {},
   "outputs": [
    {
     "data": {
      "text/latex": [
       "$\\displaystyle \\left(-1, \\infty\\right)$"
      ],
      "text/plain": [
       "Interval.open(-1, oo)"
      ]
     },
     "execution_count": 7,
     "metadata": {},
     "output_type": "execute_result"
    }
   ],
   "source": [
    "# 6) Определить промежутки, на котором f > 0:\n",
    "solveset(f>0, x, domain=S.Reals)"
   ]
  },
  {
   "cell_type": "code",
   "execution_count": 8,
   "id": "102e5427",
   "metadata": {},
   "outputs": [
    {
     "data": {
      "text/latex": [
       "$\\displaystyle \\left(-\\infty, -1\\right)$"
      ],
      "text/plain": [
       "Interval.open(-oo, -1)"
      ]
     },
     "execution_count": 8,
     "metadata": {},
     "output_type": "execute_result"
    }
   ],
   "source": [
    "# 7) Определить промежутки, на котором f < 0:\n",
    "solveset(f<0, x, domain=S.Reals)"
   ]
  },
  {
   "cell_type": "code",
   "execution_count": null,
   "id": "6520fc90",
   "metadata": {},
   "outputs": [],
   "source": []
  }
 ],
 "metadata": {
  "kernelspec": {
   "display_name": "Python 3 (ipykernel)",
   "language": "python",
   "name": "python3"
  },
  "language_info": {
   "codemirror_mode": {
    "name": "ipython",
    "version": 3
   },
   "file_extension": ".py",
   "mimetype": "text/x-python",
   "name": "python",
   "nbconvert_exporter": "python",
   "pygments_lexer": "ipython3",
   "version": "3.9.13"
  }
 },
 "nbformat": 4,
 "nbformat_minor": 5
}
